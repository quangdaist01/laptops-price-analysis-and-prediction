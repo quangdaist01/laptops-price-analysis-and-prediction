{
 "cells": [
  {
   "cell_type": "code",
   "execution_count": 8,
   "metadata": {},
   "outputs": [],
   "source": [
    "from base_class import BaseScraper\n",
    "import time\n",
    "import json\n",
    "import pandas as pd\n",
    "from selenium import webdriver\n",
    "from selenium.webdriver import ChromeOptions\n",
    "from selenium.webdriver.common.by import By\n",
    "from selenium.webdriver.support.ui import WebDriverWait\n",
    "from selenium.webdriver.support import expected_conditions as EC\n",
    "from selenium.common.exceptions import NoSuchElementException, ElementNotInteractableException"
   ]
  },
  {
   "cell_type": "code",
   "execution_count": 30,
   "metadata": {},
   "outputs": [],
   "source": [
    "class FptScraper(BaseScraper):\n",
    "\n",
    "    def __init__(self):\n",
    "        super(FptScraper, self).__init__(driver_type=\"chrome\")\n",
    "        self.driver.get(\"https://fptshop.com.vn/may-tinh-xach-tay\")\n",
    "        \n",
    "        try:\n",
    "            while True:\n",
    "                WebDriverWait(self.driver, 10).until(EC.presence_of_element_located((By.CSS_SELECTOR, \".btn-light\")))\n",
    "                self.driver.find_element_by_css_selector(\".btn-light\").click()\n",
    "        except:\n",
    "            laptops = self.driver.find_elements_by_xpath('//div[@class=\"cdt-product-wrapper m-b-20\"]/div/div/a')\n",
    "                \n",
    "        self.links = set([laptop.get_attribute('href') for laptop in laptops])\n",
    "\n",
    "        \n",
    "    def _go_to_first_tab(self) -> None:\n",
    "        self.driver.switch_to.window(self.driver.window_handles[0])\n",
    "\n",
    "    def _go_to_new_tab(self, *args, link=None) -> None:\n",
    "        self.driver.execute_script(f'''window.open(\"{link}\",\"new_window\");''')\n",
    "        self.driver.switch_to.window(self.driver.window_handles[1])\n",
    "\n",
    "\n",
    "    def _parse_specifications(self, link):\n",
    "        self.driver.get(link)\n",
    "\n",
    "        specs_info = {'Tên': self.driver.find_element_by_css_selector('.st-name').text,\n",
    "                      'Giá': int(self.driver.find_element_by_css_selector('.st-price-main').text.replace('₫', '').replace('.',''))}\n",
    "\n",
    "        WebDriverWait(self.driver, 10).until(\n",
    "            EC.visibility_of_element_located((By.LINK_TEXT, \"Xem cấu hình chi tiết\")))\n",
    "        self.driver.find_element_by_link_text(\"Xem cấu hình chi tiết\").click()\n",
    "        WebDriverWait(self.driver, 10).until(EC.visibility_of_element_located(\n",
    "            (By.CSS_SELECTOR, \"div.c-modal__content > div.c-modal__row > table.st-table td\")))\n",
    "        list_specs = self.driver.find_elements_by_css_selector(\n",
    "            \"div.c-modal__content > div.c-modal__row > table.st-table td\")\n",
    "        for i in range(0, len(list_specs) - 1, 2):\n",
    "            specs_info[list_specs[i].text] = list_specs[i + 1].text\n",
    "\n",
    "        table_specs = self.driver.find_elements_by_css_selector(\"ul.st-list > li\")\n",
    "        for info in table_specs:\n",
    "            key, value = info.text.split(\":  \\n\")\n",
    "            specs_info[key] = value\n",
    "        return specs_info\n",
    "    \n",
    "    def parse(self, *args, export=True) -> None:\n",
    "        output = pd.DataFrame([])\n",
    "        for link in self.links:\n",
    "            try:\n",
    "                basic_info = self._parse_specifications(link)\n",
    "                output = pd.concat([output, pd.DataFrame.from_dict([basic_info])])\n",
    "            except BaseException as e:\n",
    "                print(e)\n",
    "                print(\"Lỗi sản phẩm\", link)\n",
    "        output.to_csv('raw_data_FPT_new.csv', encoding='UTF-8', index=False)"
   ]
  },
  {
   "cell_type": "code",
   "execution_count": 31,
   "metadata": {},
   "outputs": [
    {
     "name": "stdout",
     "output_type": "stream",
     "text": [
      "Message: no such element: Unable to locate element: {\"method\":\"css selector\",\"selector\":\".st-price-main\"}\n",
      "  (Session info: chrome=94.0.4606.81)\n",
      "\n",
      "Lỗi sản phẩm https://fptshop.com.vn/may-tinh-xach-tay/acer-nitro-gaming-an515-45-r3sm-r5-5600h\n",
      "Message: no such element: Unable to locate element: {\"method\":\"css selector\",\"selector\":\".st-price-main\"}\n",
      "  (Session info: chrome=94.0.4606.81)\n",
      "\n",
      "Lỗi sản phẩm https://fptshop.com.vn/may-tinh-xach-tay/hp-pavilion-14-dv0042tu-i5-1135g7\n",
      "Message: no such element: Unable to locate element: {\"method\":\"css selector\",\"selector\":\".st-price-main\"}\n",
      "  (Session info: chrome=94.0.4606.81)\n",
      "\n",
      "Lỗi sản phẩm https://fptshop.com.vn/may-tinh-xach-tay/hp-pavilion-gaming-15-dk1074tx-i7-10750h\n",
      "Message: no such element: Unable to locate element: {\"method\":\"css selector\",\"selector\":\".st-price-main\"}\n",
      "  (Session info: chrome=94.0.4606.81)\n",
      "\n",
      "Lỗi sản phẩm https://fptshop.com.vn/may-tinh-xach-tay/msi-bravo-15-a4dcr-292vn-r5-4600h\n",
      "Message: no such element: Unable to locate element: {\"method\":\"css selector\",\"selector\":\".st-price-main\"}\n",
      "  (Session info: chrome=94.0.4606.81)\n",
      "\n",
      "Lỗi sản phẩm https://fptshop.com.vn/may-tinh-xach-tay/msi-gf63-10sc-i5-10200h\n",
      "Message: no such element: Unable to locate element: {\"method\":\"css selector\",\"selector\":\".st-price-main\"}\n",
      "  (Session info: chrome=94.0.4606.81)\n",
      "\n",
      "Lỗi sản phẩm https://fptshop.com.vn/may-tinh-xach-tay/msi-stealth-gs66-10se-407vn-i7-10750h\n",
      "Message: no such element: Unable to locate element: {\"method\":\"css selector\",\"selector\":\".st-price-main\"}\n",
      "  (Session info: chrome=94.0.4606.81)\n",
      "\n",
      "Lỗi sản phẩm https://fptshop.com.vn/may-tinh-xach-tay/msi-leopard-gl65-10sdk-242vn-i7-10750h\n"
     ]
    }
   ],
   "source": [
    "bot = FptScraper()\n",
    "bot.parse()"
   ]
  }
 ],
 "metadata": {
  "kernelspec": {
   "display_name": "Python 3",
   "language": "python",
   "name": "python3"
  },
  "language_info": {
   "codemirror_mode": {
    "name": "ipython",
    "version": 3
   },
   "file_extension": ".py",
   "mimetype": "text/x-python",
   "name": "python",
   "nbconvert_exporter": "python",
   "pygments_lexer": "ipython3",
   "version": "3.7.9"
  },
  "latex_envs": {
   "LaTeX_envs_menu_present": true,
   "autoclose": false,
   "autocomplete": true,
   "bibliofile": "biblio.bib",
   "cite_by": "apalike",
   "current_citInitial": 1,
   "eqLabelWithNumbers": true,
   "eqNumInitial": 1,
   "hotkeys": {
    "equation": "Ctrl-E",
    "itemize": "Ctrl-I"
   },
   "labels_anchors": false,
   "latex_user_defs": false,
   "report_style_numbering": false,
   "user_envs_cfg": false
  },
  "toc": {
   "base_numbering": 1,
   "nav_menu": {},
   "number_sections": true,
   "sideBar": true,
   "skip_h1_title": false,
   "title_cell": "Table of Contents",
   "title_sidebar": "Contents",
   "toc_cell": false,
   "toc_position": {},
   "toc_section_display": true,
   "toc_window_display": false
  },
  "varInspector": {
   "cols": {
    "lenName": 16,
    "lenType": 16,
    "lenVar": 40
   },
   "kernels_config": {
    "python": {
     "delete_cmd_postfix": "",
     "delete_cmd_prefix": "del ",
     "library": "var_list.py",
     "varRefreshCmd": "print(var_dic_list())"
    },
    "r": {
     "delete_cmd_postfix": ") ",
     "delete_cmd_prefix": "rm(",
     "library": "var_list.r",
     "varRefreshCmd": "cat(var_dic_list()) "
    }
   },
   "types_to_exclude": [
    "module",
    "function",
    "builtin_function_or_method",
    "instance",
    "_Feature"
   ],
   "window_display": false
  }
 },
 "nbformat": 4,
 "nbformat_minor": 4
}
